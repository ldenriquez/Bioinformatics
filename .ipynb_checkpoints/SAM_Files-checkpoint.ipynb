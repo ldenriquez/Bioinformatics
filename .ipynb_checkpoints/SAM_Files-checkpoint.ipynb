{
 "cells": [
  {
   "attachments": {},
   "cell_type": "markdown",
   "metadata": {},
   "source": [
    "## Bioinformatics Coding Practice Set 1\n",
    "By: Lauren Enriquez\n",
    "\n",
    "Task: Given a SAM file and a reference fasta file, the goal is to implement a function that will create a pileup of mapped reads over a reference sequence. A function will also be written to identify potential sequencing errors in reads of equal length with the same mapping position."
   ]
  },
  {
   "cell_type": "code",
   "execution_count": 1,
   "metadata": {},
   "outputs": [],
   "source": [
    "import sys"
   ]
  },
  {
   "cell_type": "code",
   "execution_count": 2,
   "metadata": {},
   "outputs": [],
   "source": [
    "#Input of files to conduct pileup \n",
    "FASTA_file= sys.argv[1]\n",
    "SAM_file = sys.argv[2]\n",
    "print(\"Name of FASTA file: \", FASTA_file)\n",
    "print(\"Name of SAM file: \", SAM_file)"
   ]
  },
  {
   "cell_type": "code",
   "execution_count": 3,
   "metadata": {},
   "outputs": [],
   "source": [
    "#Function to read reference FASTA seqs\n",
    "def read_fasta(fp):\n",
    "    name, seq = None, []\n",
    "    for line in fp:\n",
    "        line = line.rstrip()\n",
    "        if line.startswith(\">\"):\n",
    "            if name: yield (name, ''.join(seq))\n",
    "            name, seq = line[1:], []\n",
    "        else:\n",
    "            seq.append(line)\n",
    "    if name: yield (name, ''.join(seq))"
   ]
  },
  {
   "cell_type": "code",
   "execution_count": 4,
   "metadata": {},
   "outputs": [],
   "source": [
    "#Function to read sam file\n",
    "def read_sam(sam):\n",
    "    #SAM read name, reference FASTA seq, SAM read seq\n",
    "    name, ref, seq = None, None, []\n",
    "    for line in sam:\n",
    "        if line.startswith(\"@\"):\n",
    "            pass\n",
    "        else:\n",
    "            line = line.split('\\t')\n",
    "            if name: yield (name, ref, seq)\n",
    "            name, ref, seq = line[0], line[2], line[9]\n",
    "    if name: yield (name,ref,seq)"
   ]
  },
  {
   "cell_type": "code",
   "execution_count": 5,
   "metadata": {},
   "outputs": [],
   "source": [
    "#Scoring scale & parameters\n",
    "class ScoreParam:\n",
    "    def __init__(self, gap, mismatch):\n",
    "        self.gap = gap\n",
    "        self.mismatch = mismatch\n",
    "    def match(self, chr):\n",
    "        if chr == 'A':\n",
    "            return 3\n",
    "        elif chr == 'C' or chr == 'T':\n",
    "            return 2\n",
    "        else:\n",
    "            return 1"
   ]
  },
  {
   "cell_type": "code",
   "execution_count": 6,
   "metadata": {},
   "outputs": [],
   "source": [
    "#Piecewise global alignment algorithm\n",
    "def global_align(x, y, score=ScoreParam(-4, -3)):\n",
    "   \n",
    "    A = []\n",
    "    for i in range(len(y) + 1):\n",
    "        A.append([0] * (len(x) +1))\n",
    "    for i in range(len(y)+1):\n",
    "        A[i][0] = score.gap * i\n",
    "    for i in range(len(x)+1):\n",
    "        A[0][i] = score.gap * i\n",
    "    for i in range(1, len(y) + 1):\n",
    "        for j in range(1, len(x) + 1):\n",
    "           \n",
    "            A[i][j] = max(\n",
    "            A[i][j-1] + score.gap,\n",
    "            A[i-1][j] + score.gap,\n",
    "            A[i-1][j-1] + (score.match(y[i-1]) if y[i-1] == x[j-1] else score.mismatch)\n",
    "            )\n",
    "\n",
    "    align_X = \"\"\n",
    "    align_Y = \"\"\n",
    "    i = len(x)\n",
    "    j = len(y)\n",
    "\n",
    "    while i > 0 or j > 0:\n",
    "         \n",
    "        current_score = A[j][i]\n",
    "\n",
    "        if i > 0 and j > 0 and x[i - 1] == y[j - 1]:\n",
    "            align_X = x[i - 1] + align_X\n",
    "            align_Y = y[j - 1] + align_Y\n",
    "            i = i - 1\n",
    "            j = j - 1\n",
    "         \n",
    "        elif i > 0 and (current_score == A[j][i - 1] + score.mismatch or current_score == A[j][i - 1] + score.gap):\n",
    "            align_X = x[i - 1] + align_X\n",
    "            align_Y = \"-\" + align_Y\n",
    "            i = i - 1\n",
    "             \n",
    "        else:\n",
    "            align_X = \"-\" + align_X\n",
    "            align_Y = y[j - 1] + align_Y\n",
    "            j = j - 1\n",
    "   \n",
    "    return (\" \".join(align_X), \" \".join(align_Y))"
   ]
  },
  {
   "cell_type": "code",
   "execution_count": 25,
   "metadata": {},
   "outputs": [],
   "source": [
    "#Function to print out Pileup of mapped reads & store information in .txt files\n",
    "def display(ref_seq,ref_name,align,names):\n",
    "    f = open(ref_name + \".txt\", \"w+\")\n",
    "    \n",
    "    pos_text = \"Position: \"\n",
    "    y = len(pos_text)\n",
    "    hello = \":\"\n",
    "    gg = y - len(ref_name) - 1\n",
    "    for u in range(gg):\n",
    "        hello = hello + \" \"\n",
    "    reff = ref_name + hello\n",
    "    x = len(reff)\n",
    "    \n",
    "    print(\"Position: \" + str(list(range(1,len(ref_seq)+1))).replace(\",\",\"\").replace(\"[\", \"\").replace(\"]\", \"\"))\n",
    "    print(reff + \" \".join(ref_seq))\n",
    "    f.write(\"Position: \" + str(list(range(1,len(ref_seq)+1))).replace(\",\",\"\").replace(\"[\", \"\").replace(\"]\", \"\"))\n",
    "    f.write(\"\\n\")\n",
    "    f.write(reff + \" \".join(ref_seq))\n",
    "    f.write(\"\\n\")\n",
    "    \n",
    "    for i in range(len(align)):\n",
    "        sp = \":\"\n",
    "        spaces = x - len(names[i]) - 1\n",
    "        for k in range(spaces):\n",
    "            sp = sp + \" \" \n",
    "        print(names[i] + sp + align[i])\n",
    "        f.write(names[i] + sp + align[i])\n",
    "        f.write(\"\\n\")\n",
    "    f.close()"
   ]
  },
  {
   "cell_type": "code",
   "execution_count": 26,
   "metadata": {},
   "outputs": [],
   "source": [
    "#Function to determine if there are duplicates in mapped reads\n",
    "def checkIfDuplicates_2(listOfElems,listOfNames):  \n",
    "    setOfElems = set()\n",
    "    ErrorName = []\n",
    "    check = False\n",
    "    for i in range(len(listOfElems)):\n",
    "        y = listOfElems[i]\n",
    "        if y in setOfElems:\n",
    "            check = True\n",
    "            ErrorName.append(y)\n",
    "        else:\n",
    "            setOfElems.add(y)          \n",
    "    return (check,ErrorName)"
   ]
  },
  {
   "cell_type": "code",
   "execution_count": 27,
   "metadata": {},
   "outputs": [],
   "source": [
    "# Return the Hamming distance between string1 and string2.\n",
    "# string1 and string2 should be the same length.\n",
    "def hamming_dist(seq1, seq2): \n",
    "    # Start with a distance of zero, and count up\n",
    "    distance = 0\n",
    "    # Loop over the indices of the string\n",
    "    L = len(seq1)\n",
    "    for i in range(L):\n",
    "        # Add 1 to the distance if these two characters are not equal\n",
    "        if seq1[i] != seq2[i]:\n",
    "            distance += 1\n",
    "    # Return the final count of differences\n",
    "    return distance"
   ]
  },
  {
   "cell_type": "code",
   "execution_count": 28,
   "metadata": {},
   "outputs": [],
   "source": [
    "#Functiont to display Possible Errors\n",
    "def error_function(sequences,listOfNames,OGsequences):\n",
    "    z,y = checkIfDuplicates_2(sequences,listOfNames)\n",
    "    if z == True:\n",
    "        print(\"Error:\")\n",
    "        for i in range(len(y)):\n",
    "            print(listOfNames[i], OGsequences[i])\n",
    "        print(\"\\n\")"
   ]
  },
  {
   "cell_type": "code",
   "execution_count": 29,
   "metadata": {},
   "outputs": [],
   "source": [
    "#Function to \n",
    "def pileup_function(aa,bb):\n",
    "    # STARTING LISTS\n",
    "    #List of containing references grouped & categorized\n",
    "    REFERENCES = []\n",
    "    \n",
    "    #Name\n",
    "    REF_NAME = []\n",
    "    REF_SEQ = []\n",
    "    \n",
    "    #Upload and store reference fasta sequences\n",
    "    with open(aa) as fp:\n",
    "        for name, seq in read_fasta(fp):\n",
    "            REF_NAME.append(name)\n",
    "            REF_SEQ.append(seq)\n",
    "        \n",
    "        #Adding the correct number of layered lists within REFERENCES\n",
    "        for i in range(len(REF_NAME)):\n",
    "            REFERENCES.append([])\n",
    "        for j in range(len(REFERENCES)):\n",
    "            for k in range(4):\n",
    "                REFERENCES[j].append([])\n",
    "    \n",
    "        for j in range(len(REFERENCES)):\n",
    "            REFERENCES[j][0] = [REF_NAME[j]]\n",
    "            REFERENCES[j][1] = [REF_SEQ[j]]\n",
    "    \n",
    "    with open(bb) as sam:\n",
    "        for ref, a, b in read_sam(sam):\n",
    "            for j in range(len(REFERENCES)):\n",
    "                if str(a) == str(REFERENCES[j][0][0]):\n",
    "                    REFERENCES[j][2].append(ref)\n",
    "                    REFERENCES[j][3].append(b)\n",
    "    \n",
    "    #Iterate through list of SAM seqs and conduct alignments,display, & error functions\n",
    "    for j in REFERENCES:\n",
    "        refname = \"\"\n",
    "        samnames = []\n",
    "        aligned = []\n",
    "        samseq = []\n",
    "        for i in range(len(j[2])):\n",
    "            t = global_align(j[1][0],j[3][i],score=ScoreParam(-4, -3))\n",
    "            refname = j[0][0]\n",
    "            samnames.append(j[2][i])\n",
    "            aligned.append(t[1])\n",
    "            samseq.append(j[3][i])\n",
    "    \n",
    "        display(j[1][0],refname,aligned,samnames)\n",
    "        print(\"\\n\")\n",
    "        error_function(aligned,samnames,samseq)"
   ]
  },
  {
   "cell_type": "code",
   "execution_count": 30,
   "metadata": {},
   "outputs": [
    {
     "ename": "FileNotFoundError",
     "evalue": "[Errno 2] No such file or directory: '-f'",
     "output_type": "error",
     "traceback": [
      "\u001b[0;31m---------------------------------------------------------------------------\u001b[0m",
      "\u001b[0;31mFileNotFoundError\u001b[0m                         Traceback (most recent call last)",
      "\u001b[0;32m<ipython-input-30-82ed7465c7e3>\u001b[0m in \u001b[0;36m<module>\u001b[0;34m\u001b[0m\n\u001b[0;32m----> 1\u001b[0;31m \u001b[0mpileup_function\u001b[0m\u001b[0;34m(\u001b[0m\u001b[0mFASTA_file\u001b[0m\u001b[0;34m,\u001b[0m\u001b[0mSAM_file\u001b[0m\u001b[0;34m)\u001b[0m\u001b[0;34m\u001b[0m\u001b[0;34m\u001b[0m\u001b[0m\n\u001b[0m",
      "\u001b[0;32m<ipython-input-29-4c3590ecff64>\u001b[0m in \u001b[0;36mpileup_function\u001b[0;34m(aa, bb)\u001b[0m\n\u001b[1;32m     10\u001b[0m \u001b[0;34m\u001b[0m\u001b[0m\n\u001b[1;32m     11\u001b[0m     \u001b[0;31m#Upload and store reference fasta sequences\u001b[0m\u001b[0;34m\u001b[0m\u001b[0;34m\u001b[0m\u001b[0;34m\u001b[0m\u001b[0m\n\u001b[0;32m---> 12\u001b[0;31m     \u001b[0;32mwith\u001b[0m \u001b[0mopen\u001b[0m\u001b[0;34m(\u001b[0m\u001b[0maa\u001b[0m\u001b[0;34m)\u001b[0m \u001b[0;32mas\u001b[0m \u001b[0mfp\u001b[0m\u001b[0;34m:\u001b[0m\u001b[0;34m\u001b[0m\u001b[0;34m\u001b[0m\u001b[0m\n\u001b[0m\u001b[1;32m     13\u001b[0m         \u001b[0;32mfor\u001b[0m \u001b[0mname\u001b[0m\u001b[0;34m,\u001b[0m \u001b[0mseq\u001b[0m \u001b[0;32min\u001b[0m \u001b[0mread_fasta\u001b[0m\u001b[0;34m(\u001b[0m\u001b[0mfp\u001b[0m\u001b[0;34m)\u001b[0m\u001b[0;34m:\u001b[0m\u001b[0;34m\u001b[0m\u001b[0;34m\u001b[0m\u001b[0m\n\u001b[1;32m     14\u001b[0m             \u001b[0mREF_NAME\u001b[0m\u001b[0;34m.\u001b[0m\u001b[0mappend\u001b[0m\u001b[0;34m(\u001b[0m\u001b[0mname\u001b[0m\u001b[0;34m)\u001b[0m\u001b[0;34m\u001b[0m\u001b[0;34m\u001b[0m\u001b[0m\n",
      "\u001b[0;31mFileNotFoundError\u001b[0m: [Errno 2] No such file or directory: '-f'"
     ]
    }
   ],
   "source": [
    "pileup_function(FASTA_file,SAM_file)"
   ]
  },
  {
   "cell_type": "code",
   "execution_count": null,
   "metadata": {},
   "outputs": [],
   "source": []
  }
 ],
 "metadata": {
  "kernelspec": {
   "display_name": "Python 3",
   "language": "python",
   "name": "python3"
  },
  "language_info": {
   "codemirror_mode": {
    "name": "ipython",
    "version": 3
   },
   "file_extension": ".py",
   "mimetype": "text/x-python",
   "name": "python",
   "nbconvert_exporter": "python",
   "pygments_lexer": "ipython3",
   "version": "3.7.4"
  }
 },
 "nbformat": 4,
 "nbformat_minor": 2
}
