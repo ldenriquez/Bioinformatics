{
 "cells": [
  {
   "attachments": {},
   "cell_type": "markdown",
   "metadata": {},
   "source": [
    "## Task 2\n",
    "**Prompt:** Based on the database created from task 1, design an UI where user can choose any protein from any dataset to visualize the protein expression in different groups, e.g. display a barplot of protein expression in the two groups (G1, G2) for protein 1 in dataset1\n",
    "\n",
    "**Author:** Lauren Enriquez\n",
    "\n",
    "**Notes:** Graphs generated are stored in folder \"Output_Files_Graphs\" as .png files"
   ]
  },
  {
   "cell_type": "code",
   "execution_count": 1,
   "metadata": {},
   "outputs": [],
   "source": [
    "# Wrappers for supported file formats\n",
    "import string\n",
    "import sqlite3\n",
    "import pandas as pd\n",
    "from sqlite3 import Error\n",
    "import numpy as np\n",
    "import matplotlib as plt\n",
    "import matplotlib.pyplot as plt\n",
    "from matplotlib.lines import Line2D"
   ]
  },
  {
   "cell_type": "code",
   "execution_count": 2,
   "metadata": {},
   "outputs": [],
   "source": [
    "# Establishes connection to SQL database\n",
    "conn = sqlite3.connect('Mass_Spec_Database.db')\n",
    "c = conn.cursor()"
   ]
  },
  {
   "cell_type": "code",
   "execution_count": 3,
   "metadata": {},
   "outputs": [
    {
     "name": "stdout",
     "output_type": "stream",
     "text": [
      "Protein:\n",
      "P1\n",
      "P2\n",
      "P3\n",
      "P4\n",
      "P5\n",
      "P6\n",
      "P7\n",
      "P8\n",
      "\n",
      "Select Protein: P8\n",
      "Dataset 1 (D1) or Dataset 2 (D2)?: D1\n"
     ]
    }
   ],
   "source": [
    "# INPUT: User is asked to select a Protein provided in the list\n",
    "print(\"Protein:\\nP1\\nP2\\nP3\\nP4\\nP5\\nP6\\nP7\\nP8\\n\")\n",
    "protein = str(input(\"Select Protein: \"))\n",
    "while protein not in ['P1','P2', 'P3', 'P4', 'P5', 'P6', 'P7', 'P8']:\n",
    "    if protein in ['P1','P2', 'P3', 'P4', 'P5', 'P6', 'P7', 'P8']:\n",
    "        break\n",
    "    #If user inputs an invalid request, another Protein selection is asked\n",
    "    else: \n",
    "        print(\"Error!\")\n",
    "        protein = str(input(\"Select Protein: \"))\n",
    "\n",
    "        \n",
    "# INPUT: User is asked to select which Dataset they want to analyze\n",
    "dataset = str(input(\"Dataset 1 (D1) or Dataset 2 (D2)?: \"))\n",
    "while protein not in ['D1','D2']:\n",
    "    #Checks to see if Protein sample is within the database the user input\n",
    "    if dataset == 'D2':\n",
    "        if protein in ['P1','P2', 'P3', 'P4', 'P5', 'P6']:\n",
    "            break;\n",
    "    if dataset == 'D1':\n",
    "        if protein in ['P1','P2', 'P3', 'P4', 'P5', 'P6', 'P7', 'P8']:\n",
    "            break;\n",
    "    #If user inputs an invalid request, another Database selection is asked\n",
    "    else: \n",
    "        print(\"Error! This is not a Dataset avaiable\")\n",
    "        protein = str(input(\"Select Dataset: \"))"
   ]
  },
  {
   "cell_type": "code",
   "execution_count": 4,
   "metadata": {},
   "outputs": [],
   "source": [
    "# Function to determine the color assignments for each Sample (depending on the Group it is associated with)\n",
    "# Inputs required: dataset variable\n",
    "def group_colors(dataset):\n",
    "    if dataset == 'D1':\n",
    "        samples = \"\"\"SELECT * FROM Dataset1_GroupInfo\"\"\"\n",
    "    else:\n",
    "        samples = \"\"\"SELECT * FROM Dataset2_GroupInfo\"\"\"\n",
    "      \n",
    "    i = 0;\n",
    "    a = []\n",
    "    \n",
    "    # Iterates through GroupInfo from the correct Dataset and assigns it a color (based on the GroupID)\n",
    "    for row in c.execute(samples):\n",
    "        G = row[1];\n",
    "        if G == \"G1\":\n",
    "            a.append(\"blue\")\n",
    "        \n",
    "        if G == \"G2\":\n",
    "            a.append(\"orange\")\n",
    "        i += 1\n",
    "    \n",
    "    # OUTPUT: an array with the correct color assignments for each sample (organized by index)\n",
    "    return (a)"
   ]
  },
  {
   "cell_type": "code",
   "execution_count": 5,
   "metadata": {},
   "outputs": [],
   "source": [
    "# Function to create and save a graph the data the user selects\n",
    "# Inputs required: protein and dataset variables\n",
    "def Create_Graph (protein, dataset):\n",
    "    # Acquires the correct data the user selects, depending on the dataset and the protein\n",
    "    if dataset == 'D1':\n",
    "        data = \"\"\"SELECT S1,S2,S3,S4,S5,S6 FROM Dataset1_RawData WHERE Protein=?\"\"\"\n",
    "        # Creates graph labels\n",
    "        labels = [\"S1\",\"S2\",\"S3\",\"S4\",\"S5\",\"S6\"]\n",
    "       \n",
    "    else:\n",
    "        data = \"\"\"SELECT SS1,SS2,SS3,SS4,SS5,SS6,SS7,SS8 FROM Dataset2_RawData WHERE Protein=?\"\"\"\n",
    "        # Creates graph labels\n",
    "        labels = [\"SS1\",\"SS2\",\"SS3\",\"SS4\",\"SS5\",\"SS6\", \"SS7\", \"SS8\"]\n",
    "    \n",
    "    # Acquires correct data that user selects, stores information in an array\n",
    "    c.execute(data,(protein,))\n",
    "    data = []\n",
    "    data = c.fetchone()\n",
    "    \n",
    "    # Calls group_colors function to aquire the correct color assignments for the samples from the correct dataset\n",
    "    z = group_colors(dataset)\n",
    "    \n",
    "    # Creates legend elements to be displayed on graph\n",
    "    legend_elements = [Line2D([0], [0], color='blue', lw=7, label='G1'),\n",
    "                       Line2D([0], [0], color='orange', lw=7, label='G2')]\n",
    "    \n",
    "    # Alters Graph's figure size\n",
    "    fig_size = plt.rcParams[\"figure.figsize\"]\n",
    "    fig_size[0] = 10\n",
    "    fig_size[1] = 8\n",
    "    plt.rcParams[\"figure.figsize\"] = fig_size\n",
    "    \n",
    "    # Builds graph based on user inputs, the data array, and legend_elements \n",
    "    fig, ax = plt.subplots()\n",
    "    \n",
    "    # Adds labels for each bar from correct dataset and alters bargraph width\n",
    "    x = np.arange(len(labels))\n",
    "    width = 0.35\n",
    "    \n",
    "    # Creates graph labels & legend\n",
    "    ax.set_ylabel('Mass')\n",
    "    ax.set_title(\"Dataset \" + dataset + \" Protein \" + protein)\n",
    "    ax.set_xticks(x)\n",
    "    ax.set_xticklabels(labels)\n",
    "    ax.legend(handles=legend_elements, loc='center left', bbox_to_anchor=(1, 0.8))\n",
    "    \n",
    "    # Create Function to add the LC-MS reading (\"height\") above each bar\n",
    "    def autolabel(rects):\n",
    "     #Attach a text label above each bar in *rects*, displaying its height.\"\"\"\n",
    "        for rect in rects:\n",
    "            height = rect.get_height()\n",
    "            ax.annotate('{}'.format(height),\n",
    "                        xy=(rect.get_x() + rect.get_width() / 2, height),\n",
    "                        xytext=(0, 3),  # 3 points vertical offset\n",
    "                        textcoords=\"offset points\",\n",
    "                        ha='center', va='bottom')\n",
    "            \n",
    "    # Calls autolabel to add LC-MS reading above the generated bar graph.\n",
    "    autolabel(plt.bar(x,data, color = z))\n",
    "    \n",
    "    # OUTPUT: Display graph\n",
    "    plt.show()\n",
    "    \n",
    "    # SAVED OUTPUT: Saves output image as an .png in the \"Output_Files_Graphs\" folder\n",
    "    fig.savefig('Output_Files_Graphs/Dataset ' + dataset + \" Protein \" + protein + ' Results.png')\n",
    "    \n",
    "    # OUTPUT: Display graph\n",
    "    return(plt.show())\n"
   ]
  },
  {
   "cell_type": "code",
   "execution_count": 6,
   "metadata": {},
   "outputs": [
    {
     "data": {
      "image/png": "[encoded data removed]",
      "text/plain": [
       "<Figure size 720x576 with 1 Axes>"
      ]
     },
     "metadata": {
      "needs_background": "light"
     },
     "output_type": "display_data"
    }
   ],
   "source": [
    "# Execution: Function to create the graph is called using the inputs the user provided\n",
    "Create_Graph(protein,dataset)\n",
    "conn.commit()"
   ]
  },
  {
   "cell_type": "code",
   "execution_count": null,
   "metadata": {},
   "outputs": [],
   "source": [
    "# Closes connection to SQL database \n",
    "c.close()"
   ]
  }
 ],
 "metadata": {
  "kernelspec": {
   "display_name": "Python 3",
   "language": "python",
   "name": "python3"
  },
  "language_info": {
   "codemirror_mode": {
    "name": "ipython",
    "version": 3
   },
   "file_extension": ".py",
   "mimetype": "text/x-python",
   "name": "python",
   "nbconvert_exporter": "python",
   "pygments_lexer": "ipython3",
   "version": "3.7.4"
  }
 },
 "nbformat": 4,
 "nbformat_minor": 2
}
