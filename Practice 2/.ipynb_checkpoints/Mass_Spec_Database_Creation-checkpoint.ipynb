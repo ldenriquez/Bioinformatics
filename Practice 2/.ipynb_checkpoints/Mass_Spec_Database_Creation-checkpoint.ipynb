{
 "cells": [
  {
   "cell_type": "markdown",
   "metadata": {},
   "source": [
    "## Task 1\n",
    "**Prompt:** Design a database to organize/store the data in dataset1.xlsx and dataset2.xlsx\n",
    "\n",
    "**Author:** Lauren Enriquez\n",
    "\n",
    "**Notes:** sqlite3 was used to established connections to SQL to create a database. <br> The database is labeled as **Mass_Spec_Database.db**. Any elements in .xlsx files that are empty are written as **0.0** in the database."
   ]
  },
  {
   "cell_type": "code",
   "execution_count": 1,
   "metadata": {},
   "outputs": [],
   "source": [
    "# Wrappers for supported file formats\n",
    "import string\n",
    "import sqlite3\n",
    "from sqlite3 import Error\n",
    "import pandas as pd\n",
    "import pyodbc\n",
    "import numpy as np\n",
    "import xlrd"
   ]
  },
  {
   "cell_type": "code",
   "execution_count": 2,
   "metadata": {},
   "outputs": [],
   "source": [
    "# Establishes connection to SQL database\n",
    "conn = sqlite3.connect('Mass_Spec_Database.db')\n",
    "c = conn.cursor()"
   ]
  },
  {
   "cell_type": "code",
   "execution_count": 3,
   "metadata": {},
   "outputs": [],
   "source": [
    "# Execution to drop tables was used in the development of the database, does not need to be called everytime\n",
    "# Statements may be commented out\n",
    "conn.execute(\"DROP TABLE Dataset1_RawData;\")\n",
    "conn.execute(\"DROP TABLE Dataset2_RawData;\")\n",
    "conn.execute(\"DROP TABLE Dataset2_GroupInfo;\")\n",
    "conn.execute(\"DROP TABLE Dataset1_GroupInfo;\")\n",
    "conn.commit()"
   ]
  },
  {
   "cell_type": "code",
   "execution_count": 4,
   "metadata": {},
   "outputs": [],
   "source": [
    "# Creates Tables with RawData and GroupInfo from each Dataset\n",
    "c.execute(\"\"\"CREATE TABLE Dataset1_RawData (Protein TEXT,\n",
    "                                 S1 REAL,\n",
    "                                 S2 REAL,\n",
    "                                 S3 REAL,\n",
    "                                 S4 REAL,\n",
    "                                 S5 REAL,\n",
    "                                 S6 REAL);\"\"\")\n",
    "\n",
    "c.execute(\"\"\"CREATE TABLE Dataset1_GroupInfo (SampleID TEXT,\n",
    "                                 GroupID TEXT);\"\"\")\n",
    "\n",
    "c.execute(\"\"\"CREATE TABLE Dataset2_RawData (Protein TEXT,\n",
    "                                 SS1 REAL,\n",
    "                                 SS2 REAL,\n",
    "                                 SS3 REAL,\n",
    "                                 SS4 REAL,\n",
    "                                 SS5 REAL,\n",
    "                                 SS6 REAL,\n",
    "                                 SS7 REAL,\n",
    "                                 SS8 REAL);\"\"\")\n",
    "\n",
    "c.execute(\"\"\"CREATE TABLE Dataset2_GroupInfo (SampleID TEXT,\n",
    "                                 GroupID TEXT);\"\"\")\n",
    "# Save (commit) the changes\n",
    "conn.commit()"
   ]
  },
  {
   "cell_type": "code",
   "execution_count": 5,
   "metadata": {},
   "outputs": [],
   "source": [
    "# Uploads data from excel files and stores information on each sheet as dataframes (using pandas)\n",
    "# Dataset 1\n",
    "xls1 = pd.ExcelFile('Data/Dataset1.xlsx')\n",
    "df1 = pd.read_excel(xls1, 'RawData')\n",
    "df2 = pd.read_excel(xls1, 'GroupInfo')\n",
    "\n",
    "# Dataset 2\n",
    "xls2 = pd.ExcelFile('Data/Dataset2.xlsx')\n",
    "df3 = pd.read_excel(xls2, 'RawData')\n",
    "df4 = pd.read_excel(xls2, 'GroupInfo')"
   ]
  },
  {
   "cell_type": "code",
   "execution_count": 6,
   "metadata": {},
   "outputs": [],
   "source": [
    "# Uploads dataframes into database tables\n",
    "# Dataset 1\n",
    "df1.to_sql('Dataset1_RawData', conn, if_exists = 'replace', index = False)\n",
    "df2.to_sql('Dataset1_GroupInfo', conn, if_exists = 'replace', index = False)\n",
    "\n",
    "# Dataset 2\n",
    "df3.to_sql('Dataset2_RawData', conn, if_exists = 'replace', index = False)\n",
    "df4.to_sql('Dataset2_GroupInfo', conn, if_exists = 'replace', index = False)"
   ]
  },
  {
   "cell_type": "code",
   "execution_count": 7,
   "metadata": {},
   "outputs": [],
   "source": [
    "# Function to determine the correct sqlite3 statement to deploy for dataset 1\n",
    "def column_selection(index):\n",
    "    if index == 1:\n",
    "        x = \"UPDATE Dataset1_RawData SET S1 = 0.0\"\n",
    "    if index == 2:\n",
    "        x = \"UPDATE Dataset1_RawData SET S2 = 0.0\"\n",
    "    if index == 3:\n",
    "        x = \"UPDATE Dataset1_RawData SET S3 = 0.0\"\n",
    "    if index == 4:\n",
    "        x = \"UPDATE Dataset1_RawData SET S4 = 0.0\"\n",
    "    if index == 5:\n",
    "        x = \"UPDATE Dataset1_RawData SET S5 = 0.0\"\n",
    "    if index == 6:\n",
    "        x = \"UPDATE Dataset1_RawData SET S6 = 0.0\"\n",
    "    return (x);"
   ]
  },
  {
   "cell_type": "code",
   "execution_count": 8,
   "metadata": {},
   "outputs": [],
   "source": [
    "# Function to determine the correct sqlite3 statement to deploy for dataset 2\n",
    "def column_selection2(index):\n",
    "    if index == 1:\n",
    "        x = \"UPDATE Dataset2_RawData SET SS1 = 0.0\"\n",
    "    if index == 2:\n",
    "        x = \"UPDATE Dataset2_RawData SET SS2 = 0.0\"\n",
    "    if index == 3:\n",
    "        x = \"UPDATE Dataset2_RawData SET SS3 = 0.0\"\n",
    "    if index == 4:\n",
    "        x = \"UPDATE Dataset2_RawData SET SS4 = 0.0\"\n",
    "    if index == 5:\n",
    "        x = \"UPDATE Dataset2_RawData SET SS5 = 0.0\"\n",
    "    if index == 6:\n",
    "        x = \"UPDATE Dataset2_RawData SET SS6 = 0.0\"\n",
    "    if index == 7:\n",
    "        x = \"UPDATE Dataset2_RawData SET SS7 = 0.0\"\n",
    "    if index == 8:\n",
    "        x = \"UPDATE Dataset2_RawData SET SS8 = 0.0\"\n",
    "    return (x);"
   ]
  },
  {
   "cell_type": "code",
   "execution_count": 12,
   "metadata": {},
   "outputs": [],
   "source": [
    "# Iterates through each row in the table Dataset1_RawData to change any \"None\" or empty elements to \"0.0\"\n",
    "for row in c.execute(\"\"\"SELECT * FROM Dataset1_RawData\"\"\"):\n",
    "    protein = row[0];\n",
    "    index = 0;\n",
    "    for i in row:\n",
    "        # Changes the \"None\" element to \"0.0\"\n",
    "        if i is None:\n",
    "            print(row)\n",
    "            x = column_selection(index)\n",
    "            print(x, protein)\n",
    "            c.execute(x + \" WHERE Protein=?\",(protein,));\n",
    "            # Save (commit) the changes       \n",
    "            conn.commit()\n",
    "        index += 1;\n",
    "        \n",
    "# Save (commit) the changes       \n",
    "conn.commit()"
   ]
  },
  {
   "cell_type": "code",
   "execution_count": 17,
   "metadata": {},
   "outputs": [],
   "source": [
    "# Iterates through each row in the table Dataset2_RawData to change any \"None\" or empty elements to \"0.0\"\n",
    "for row in c.execute(\"\"\"SELECT * FROM Dataset2_RawData\"\"\"):\n",
    "    protein = row[0];\n",
    "    index = 0;\n",
    "    for i in row:\n",
    "        # Changes the \"None\" element to \"0.0\"\n",
    "        if i is None:\n",
    "            print(row)\n",
    "            x = column_selection2(index)\n",
    "            print(x, protein)\n",
    "            c.execute(x + \" WHERE Protein=?\",(protein,));\n",
    "            # Save (commit) the changes       \n",
    "            conn.commit()\n",
    "        index += 1;\n",
    "        \n",
    "# Save (commit) the changes       \n",
    "conn.commit()"
   ]
  },
  {
   "cell_type": "code",
   "execution_count": 19,
   "metadata": {},
   "outputs": [
    {
     "name": "stdout",
     "output_type": "stream",
     "text": [
      "('P1', 1.01, 1.05, 1.12, 2.13, 2.25, 2.33)\n",
      "('P2', 9.249472, 1.0276421, 9.6061007, 7.4582455, 8.3666868, 0.8090925)\n",
      "('P3', 4.2810155, 0.0, 9.7962788, 6.1705894, 0.7037997, 0.0)\n",
      "('P4', 7.9750129, 5.3932881, 5.1624935, 1.2704098, 8.706468, 8.6649293)\n",
      "('P5', 107.84214, 101.10742, 73.67151, 113.94035, 108.47938, 77.48445)\n",
      "('P6', 88.71057, 115.13657, 141.6983, 99.91198, 118.69664, 110.61667)\n",
      "('P7', 0.03603657, 0.10291447, 0.54357552, 0.80098468, 0.0, 0.3051176)\n",
      "('P8', 0.0, 0.76045844, 0.13139693, 0.82312464, 0.72815841, 0.33124331)\n",
      "\n",
      "('P1', 4.01, 305.0, 7.12, 2.93, 0.0, 10.33, 7.9750129, 5.3932881)\n",
      "('P2', 113.94035, 108.47938, 9.6061007, 7.4582455, 8.3666868, 0.8090925, 88.71057, 115.13657)\n",
      "('P3', 0.0, 2.5850736, 56.12, 34.89, 0.7037997, 9.505624, 9.249472, 1.0276421)\n",
      "('P4', 100.68, 5.29, 5.1624935, 1.2704098, 8.706468, 8.6649293, 118.69664, 110.61667)\n",
      "('P5', 107.84214, 101.10742, 73.67151, 10.32, 19.45, 0.0, 88.65, 108.34)\n",
      "('P6', 103.22, 79.88, 141.6983, 99.91198, 21.56, 32.78, 9.7962788, 0.0)\n"
     ]
    }
   ],
   "source": [
    "# OUTPUT: Prints Dataset1_RawData and Dataset2_RawData tables to ensure \"None\" elements are now \"0.0\"\n",
    "for row in c.execute(\"\"\"SELECT * FROM Dataset1_RawData\"\"\"):\n",
    "    print(row)\n",
    "print(\"\")\n",
    "for row in c.execute(\"\"\"SELECT * FROM Dataset2_RawData\"\"\"):\n",
    "    print(row)"
   ]
  },
  {
   "cell_type": "code",
   "execution_count": 20,
   "metadata": {},
   "outputs": [],
   "source": [
    "# Closes connection to SQL database \n",
    "c.close()"
   ]
  }
 ],
 "metadata": {
  "kernelspec": {
   "display_name": "Python 3",
   "language": "python",
   "name": "python3"
  },
  "language_info": {
   "codemirror_mode": {
    "name": "ipython",
    "version": 3
   },
   "file_extension": ".py",
   "mimetype": "text/x-python",
   "name": "python",
   "nbconvert_exporter": "python",
   "pygments_lexer": "ipython3",
   "version": "3.7.4"
  }
 },
 "nbformat": 4,
 "nbformat_minor": 2
}
